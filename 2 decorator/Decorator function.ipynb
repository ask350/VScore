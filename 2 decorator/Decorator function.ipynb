{
 "cells": [
  {
   "attachments": {
    "image.png": {
     "image/png": "[encoded data removed]"
    }
   },
   "cell_type": "markdown",
   "metadata": {},
   "source": [
    "Decorator function - Modifies behaviour of an input function\n",
    "\n",
    "![image.png](attachment:image.png)"
   ]
  },
  {
   "cell_type": "markdown",
   "metadata": {},
   "source": [
    "# Create a decorator to Welcome the user and thank the user in end"
   ]
  },
  {
   "cell_type": "code",
   "execution_count": 3,
   "metadata": {},
   "outputs": [],
   "source": [
    "def welcome(func):\n",
    "    def wrapper(*args, **kwargs):\n",
    "        print('Welcome to this function')\n",
    "        result = func(*args, **kwargs)\n",
    "        print(f\"Function Result : {result}\")\n",
    "        print('Thank you for using this function')\n",
    "        return result\n",
    "    return wrapper"
   ]
  },
  {
   "cell_type": "markdown",
   "metadata": {},
   "source": [
    "### Implementing decorator\n",
    "\n",
    "@decorator-name\n",
    "\n",
    "def function..."
   ]
  },
  {
   "cell_type": "code",
   "execution_count": 2,
   "metadata": {},
   "outputs": [],
   "source": [
    "@welcome\n",
    "def hypotenuse(a,b):\n",
    "    c = (a**2 + b**2)**(1/2)\n",
    "    return c"
   ]
  },
  {
   "cell_type": "code",
   "execution_count": 4,
   "metadata": {},
   "outputs": [
    {
     "name": "stdout",
     "output_type": "stream",
     "text": [
      "Welcome to this function\n",
      "5.0\n",
      "Thank you for using this function\n"
     ]
    },
    {
     "data": {
      "text/plain": [
       "5.0"
      ]
     },
     "execution_count": 4,
     "metadata": {},
     "output_type": "execute_result"
    }
   ],
   "source": [
    "hypotenuse(3,4)"
   ]
  },
  {
   "cell_type": "code",
   "execution_count": 5,
   "metadata": {},
   "outputs": [
    {
     "name": "stdout",
     "output_type": "stream",
     "text": [
      "Welcome to this function\n",
      "8.602325267042627\n",
      "Thank you for using this function\n"
     ]
    }
   ],
   "source": [
    "h2 = hypotenuse(5, 7)"
   ]
  },
  {
   "cell_type": "code",
   "execution_count": 6,
   "metadata": {},
   "outputs": [
    {
     "data": {
      "text/plain": [
       "8.602325267042627"
      ]
     },
     "execution_count": 6,
     "metadata": {},
     "output_type": "execute_result"
    }
   ],
   "source": [
    "h2"
   ]
  },
  {
   "cell_type": "code",
   "execution_count": 7,
   "metadata": {},
   "outputs": [],
   "source": [
    "@welcome\n",
    "def get_squares(n):\n",
    "    return n**2"
   ]
  },
  {
   "cell_type": "code",
   "execution_count": 8,
   "metadata": {},
   "outputs": [
    {
     "name": "stdout",
     "output_type": "stream",
     "text": [
      "Welcome to this function\n",
      "Function Result : 529\n",
      "Thank you for using this function\n"
     ]
    },
    {
     "data": {
      "text/plain": [
       "529"
      ]
     },
     "execution_count": 8,
     "metadata": {},
     "output_type": "execute_result"
    }
   ],
   "source": [
    "get_squares(23)"
   ]
  },
  {
   "cell_type": "code",
   "execution_count": 9,
   "metadata": {},
   "outputs": [
    {
     "name": "stdout",
     "output_type": "stream",
     "text": [
      "Welcome to this function\n",
      "Function Result : 144\n",
      "Thank you for using this function\n"
     ]
    }
   ],
   "source": [
    "s = get_squares(12)"
   ]
  },
  {
   "cell_type": "code",
   "execution_count": 10,
   "metadata": {},
   "outputs": [
    {
     "data": {
      "text/plain": [
       "144"
      ]
     },
     "execution_count": 10,
     "metadata": {},
     "output_type": "execute_result"
    }
   ],
   "source": [
    "s"
   ]
  },
  {
   "cell_type": "markdown",
   "metadata": {},
   "source": [
    "### Applying decorator on existing function"
   ]
  },
  {
   "cell_type": "code",
   "execution_count": 11,
   "metadata": {},
   "outputs": [],
   "source": [
    "def simple_interest(P, N, R):\n",
    "    I = (P*N*R)/100\n",
    "    A = P + I\n",
    "    return I, A"
   ]
  },
  {
   "cell_type": "code",
   "execution_count": 12,
   "metadata": {},
   "outputs": [
    {
     "data": {
      "text/plain": [
       "(1950.0, 11950.0)"
      ]
     },
     "execution_count": 12,
     "metadata": {},
     "output_type": "execute_result"
    }
   ],
   "source": [
    "simple_interest(10000, 3, 6.5)"
   ]
  },
  {
   "cell_type": "code",
   "execution_count": 13,
   "metadata": {},
   "outputs": [
    {
     "data": {
      "text/plain": [
       "(9940.0, 44940.0)"
      ]
     },
     "execution_count": 13,
     "metadata": {},
     "output_type": "execute_result"
    }
   ],
   "source": [
    "simple_interest(P=35000, N=4, R=7.1)"
   ]
  },
  {
   "cell_type": "code",
   "execution_count": 16,
   "metadata": {},
   "outputs": [],
   "source": [
    "@welcome\n",
    "def si_decorator(P, N, R):       #we defined new function under decorator and nested existing function in it\n",
    "    return simple_interest(P, N, R)"
   ]
  },
  {
   "cell_type": "code",
   "execution_count": 17,
   "metadata": {},
   "outputs": [
    {
     "name": "stdout",
     "output_type": "stream",
     "text": [
      "Welcome to this function\n",
      "Function Result : (10125.0, 55125.0)\n",
      "Thank you for using this function\n"
     ]
    },
    {
     "data": {
      "text/plain": [
       "(10125.0, 55125.0)"
      ]
     },
     "execution_count": 17,
     "metadata": {},
     "output_type": "execute_result"
    }
   ],
   "source": [
    "si_decorator(45000, 3, 7.5)"
   ]
  },
  {
   "cell_type": "code",
   "execution_count": 18,
   "metadata": {},
   "outputs": [
    {
     "name": "stdout",
     "output_type": "stream",
     "text": [
      "Welcome to this function\n",
      "Function Result : (22400.0, 78400.0)\n",
      "Thank you for using this function\n"
     ]
    },
    {
     "data": {
      "text/plain": [
       "(22400.0, 78400.0)"
      ]
     },
     "execution_count": 18,
     "metadata": {},
     "output_type": "execute_result"
    }
   ],
   "source": [
    "si_decorator(P=56000, R=8, N=5)"
   ]
  },
  {
   "cell_type": "markdown",
   "metadata": {},
   "source": [
    "## Time decorator to calculate time required for completion of a code"
   ]
  },
  {
   "cell_type": "code",
   "execution_count": 19,
   "metadata": {},
   "outputs": [],
   "source": [
    "import time"
   ]
  },
  {
   "cell_type": "code",
   "execution_count": 20,
   "metadata": {},
   "outputs": [
    {
     "name": "stdout",
     "output_type": "stream",
     "text": [
      "Hello World\n"
     ]
    }
   ],
   "source": [
    "time.sleep(3)\n",
    "print('Hello World')"
   ]
  },
  {
   "cell_type": "code",
   "execution_count": 22,
   "metadata": {},
   "outputs": [
    {
     "name": "stdout",
     "output_type": "stream",
     "text": [
      "ETLHive\n",
      "Time Required to execute this code : 4.00 seconds\n"
     ]
    }
   ],
   "source": [
    "t_start = time.time()\n",
    "time.sleep(4)\n",
    "print(\"ETLHive\")\n",
    "t_stop = time.time()\n",
    "t = t_stop - t_start\n",
    "print(f'Time Required to execute this code : {t:.2f} seconds')"
   ]
  },
  {
   "cell_type": "code",
   "execution_count": 23,
   "metadata": {},
   "outputs": [],
   "source": [
    "def time_decorator(func):\n",
    "    def wrapper(*args, **kwargs):\n",
    "        t_start = time.time()\n",
    "        result = func(*args, **kwargs)\n",
    "        print(f'Function Results : {result}')\n",
    "        t_stop = time.time()\n",
    "        t = t_stop - t_start\n",
    "        print(f'Time required to execute this function = {t:.2f} second')\n",
    "        return result\n",
    "    return wrapper\n",
    "        "
   ]
  },
  {
   "cell_type": "code",
   "execution_count": 24,
   "metadata": {},
   "outputs": [],
   "source": [
    "@time_decorator\n",
    "def print_multiple(s, time_delay, num):\n",
    "    for i in range(num):\n",
    "        time.sleep(time_delay)\n",
    "        print(s)"
   ]
  },
  {
   "cell_type": "code",
   "execution_count": 26,
   "metadata": {},
   "outputs": [
    {
     "name": "stdout",
     "output_type": "stream",
     "text": [
      "Hello World\n",
      "Hello World\n",
      "Hello World\n",
      "Hello World\n",
      "Hello World\n",
      "Function Results : None\n",
      "Time required to execute this function = 10.00 second\n"
     ]
    }
   ],
   "source": [
    "print_multiple('Hello World', 2, 5)"
   ]
  },
  {
   "cell_type": "code",
   "execution_count": 27,
   "metadata": {},
   "outputs": [
    {
     "name": "stdout",
     "output_type": "stream",
     "text": [
      "ETLHive\n",
      "ETLHive\n",
      "ETLHive\n",
      "ETLHive\n",
      "ETLHive\n",
      "ETLHive\n",
      "ETLHive\n",
      "ETLHive\n",
      "ETLHive\n",
      "ETLHive\n",
      "Function Results : None\n",
      "Time required to execute this function = 15.01 second\n"
     ]
    }
   ],
   "source": [
    "print_multiple(s=\"ETLHive\", time_delay=1.5, num=10)"
   ]
  },
  {
   "cell_type": "markdown",
   "metadata": {},
   "source": [
    "## User Authentication\n",
    "To verify username and password"
   ]
  },
  {
   "cell_type": "code",
   "execution_count": 48,
   "metadata": {},
   "outputs": [],
   "source": [
    "USERS = {\n",
    "    'utkarshg5' :'Password@1234',\n",
    "    'aditim1' : 'Example#4567',\n",
    "    'sarthak' : 'Etlhive$9876'\n",
    "        }"
   ]
  },
  {
   "cell_type": "code",
   "execution_count": 49,
   "metadata": {},
   "outputs": [
    {
     "data": {
      "text/plain": [
       "dict_keys(['utkarshg5', 'aditim1', 'sarthak'])"
      ]
     },
     "execution_count": 49,
     "metadata": {},
     "output_type": "execute_result"
    }
   ],
   "source": [
    "USERS.keys()"
   ]
  },
  {
   "cell_type": "code",
   "execution_count": 50,
   "metadata": {},
   "outputs": [
    {
     "data": {
      "text/plain": [
       "'Password@1234'"
      ]
     },
     "execution_count": 50,
     "metadata": {},
     "output_type": "execute_result"
    }
   ],
   "source": [
    "USERS.get(\"utkarshg5\")"
   ]
  },
  {
   "cell_type": "code",
   "execution_count": 51,
   "metadata": {},
   "outputs": [],
   "source": [
    "def authenticator(func):\n",
    "    def wrapper(username, password, *args, **kwargs):\n",
    "        if (username in USERS.keys()) and (password == USERS.get(username)):\n",
    "            print(f'Login Successful , Welcome {username}')\n",
    "            results = func(username, password, *args, **kwargs)\n",
    "            print(f'Function Results : {results}')\n",
    "            return results\n",
    "        else:\n",
    "            print('Login Failed, Please check your username and password')\n",
    "    return wrapper"
   ]
  },
  {
   "cell_type": "code",
   "execution_count": 56,
   "metadata": {},
   "outputs": [],
   "source": [
    "@authenticator\n",
    "def compound_interest(username, password, P, N, R):\n",
    "    A = P*(1+(R/100))**N\n",
    "    I = A - P\n",
    "    return I, A"
   ]
  },
  {
   "cell_type": "code",
   "execution_count": 55,
   "metadata": {},
   "outputs": [
    {
     "name": "stdout",
     "output_type": "stream",
     "text": [
      "Login Failed, Please check your username and password\n"
     ]
    }
   ],
   "source": [
    "compound_interest(\n",
    "    username=\"random123\",\n",
    "    password=\"random\",\n",
    "    P = 45000,\n",
    "    N = 5,\n",
    "    R = 6.5\n",
    ")"
   ]
  },
  {
   "cell_type": "code",
   "execution_count": 57,
   "metadata": {},
   "outputs": [
    {
     "name": "stdout",
     "output_type": "stream",
     "text": [
      "Login Failed, Please check your username and password\n"
     ]
    }
   ],
   "source": [
    "compound_intrest(\n",
    "    username=\"aditim1\",\n",
    "    password=\"password\",\n",
    "    P = 45000,\n",
    "    N = 5,\n",
    "    R = 6.5\n",
    ")"
   ]
  },
  {
   "cell_type": "code",
   "execution_count": 58,
   "metadata": {},
   "outputs": [
    {
     "name": "stdout",
     "output_type": "stream",
     "text": [
      "Login Failed, Please check your username and password\n"
     ]
    }
   ],
   "source": [
    "compound_intrest(\n",
    "    username=\"ditim1\",\n",
    "    password=\"Example#4567\",\n",
    "    P = 45000,\n",
    "    N = 5,\n",
    "    R = 6.5\n",
    ")"
   ]
  },
  {
   "cell_type": "code",
   "execution_count": 59,
   "metadata": {},
   "outputs": [
    {
     "name": "stdout",
     "output_type": "stream",
     "text": [
      "Login Successful , Welcome aditim1\n",
      "Function Results : (16653.899853703108, 61653.89985370311)\n"
     ]
    },
    {
     "data": {
      "text/plain": [
       "(16653.899853703108, 61653.89985370311)"
      ]
     },
     "execution_count": 59,
     "metadata": {},
     "output_type": "execute_result"
    }
   ],
   "source": [
    "compound_intrest(\n",
    "    username=\"aditim1\",\n",
    "    password=\"Example#4567\",\n",
    "    P = 45000,\n",
    "    N = 5,\n",
    "    R = 6.5\n",
    ")"
   ]
  },
  {
   "cell_type": "code",
   "execution_count": 60,
   "metadata": {},
   "outputs": [
    {
     "name": "stdout",
     "output_type": "stream",
     "text": [
      "Login Successful , Welcome sarthak\n",
      "Function Results : (17995.074173816975, 74995.07417381697)\n"
     ]
    },
    {
     "data": {
      "text/plain": [
       "(17995.074173816975, 74995.07417381697)"
      ]
     },
     "execution_count": 60,
     "metadata": {},
     "output_type": "execute_result"
    }
   ],
   "source": [
    "compound_intrest(\n",
    "    username=\"sarthak\",\n",
    "    password=\"Etlhive$9876\",\n",
    "    P = 57000,\n",
    "    N = 4,\n",
    "    R = 7.1\n",
    ")"
   ]
  },
  {
   "cell_type": "code",
   "execution_count": 61,
   "metadata": {},
   "outputs": [
    {
     "name": "stdout",
     "output_type": "stream",
     "text": [
      "Login Successful , Welcome utkarshg5\n",
      "Function Results : (48540.05027700742, 116540.05027700742)\n"
     ]
    },
    {
     "data": {
      "text/plain": [
       "(48540.05027700742, 116540.05027700742)"
      ]
     },
     "execution_count": 61,
     "metadata": {},
     "output_type": "execute_result"
    }
   ],
   "source": [
    "compound_intrest(\n",
    "    username=\"utkarshg5\",\n",
    "    password=\"Password@1234\",\n",
    "    P = 68000,\n",
    "    N = 7,\n",
    "    R = 8\n",
    ")"
   ]
  },
  {
   "cell_type": "code",
   "execution_count": null,
   "metadata": {},
   "outputs": [],
   "source": []
  }
 ],
 "metadata": {
  "kernelspec": {
   "display_name": "venv",
   "language": "python",
   "name": "python3"
  },
  "language_info": {
   "codemirror_mode": {
    "name": "ipython",
    "version": 3
   },
   "file_extension": ".py",
   "mimetype": "text/x-python",
   "name": "python",
   "nbconvert_exporter": "python",
   "pygments_lexer": "ipython3",
   "version": "3.12.4"
  }
 },
 "nbformat": 4,
 "nbformat_minor": 2
}
